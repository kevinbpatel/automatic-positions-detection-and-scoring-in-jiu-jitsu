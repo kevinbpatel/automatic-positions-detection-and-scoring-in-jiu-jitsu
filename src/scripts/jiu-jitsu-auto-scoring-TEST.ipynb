{
 "cells": [
  {
   "cell_type": "code",
   "execution_count": null,
   "metadata": {
    "colab": {
     "base_uri": "https://localhost:8080/",
     "height": 141
    },
    "executionInfo": {
     "elapsed": 5,
     "status": "error",
     "timestamp": 1738518446650,
     "user": {
      "displayName": "Kevin Patel",
      "userId": "04051272072255606707"
     },
     "user_tz": 300
    },
    "id": "Fo6zGmgXrA1M",
    "outputId": "2379c951-cf88-42c8-f1af-a238dca533fc"
   },
   "outputs": [
    {
     "ename": "NameError",
     "evalue": "name 'sadasd' is not defined",
     "output_type": "error",
     "traceback": [
      "\u001b[0;31m---------------------------------------------------------------------------\u001b[0m",
      "\u001b[0;31mNameError\u001b[0m                                 Traceback (most recent call last)",
      "\u001b[0;32m<ipython-input-5-a89051fd0168>\u001b[0m in \u001b[0;36m<cell line: 0>\u001b[0;34m()\u001b[0m\n\u001b[0;32m----> 1\u001b[0;31m \u001b[0msadasd\u001b[0m\u001b[0;34m\u001b[0m\u001b[0;34m\u001b[0m\u001b[0m\n\u001b[0m",
      "\u001b[0;31mNameError\u001b[0m: name 'sadasd' is not defined"
     ]
    }
   ],
   "source": [
    "print(\"lsdjflk\")"
   ]
  }
 ],
 "metadata": {
  "colab": {
   "authorship_tag": "ABX9TyNbHYJ5yXTaz09zzuv7TNcO",
   "provenance": []
  },
  "kernelspec": {
   "display_name": "Python 3",
   "name": "python3"
  },
  "language_info": {
   "name": "python"
  }
 },
 "nbformat": 4,
 "nbformat_minor": 0
}
